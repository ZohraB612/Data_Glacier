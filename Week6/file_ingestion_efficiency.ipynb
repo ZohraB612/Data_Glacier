{
 "cells": [
  {
   "attachments": {},
   "cell_type": "markdown",
   "metadata": {},
   "source": [
    "# Comparative Analysis of File Reading Methods: Pandas, Dask, and Modin with the English-French Translation Dataset"
   ]
  },
  {
   "attachments": {},
   "cell_type": "markdown",
   "metadata": {},
   "source": [
    "**Step 1: Importing necessary libraries**"
   ]
  },
  {
   "cell_type": "code",
   "execution_count": 1,
   "metadata": {},
   "outputs": [
    {
     "name": "stderr",
     "output_type": "stream",
     "text": [
      "c:\\Users\\Zohra\\AppData\\Local\\Programs\\Python\\Python38\\lib\\site-packages\\scipy\\__init__.py:146: UserWarning: A NumPy version >=1.16.5 and <1.23.0 is required for this version of SciPy (detected version 1.24.3\n",
      "  warnings.warn(f\"A NumPy version >={np_minversion} and <{np_maxversion}\"\n"
     ]
    }
   ],
   "source": [
    "import pandas as pd\n",
    "import dask.dataframe as dd\n",
    "import modin.pandas as mp\n",
    "import os\n",
    "import yaml\n",
    "import time\n",
    "from dask.distributed import Client\n",
    "client = Client(memory_limit='3GB')"
   ]
  },
  {
   "cell_type": "code",
   "execution_count": 2,
   "metadata": {},
   "outputs": [],
   "source": [
    "file_path='datasets\\en-fr.csv'"
   ]
  },
  {
   "attachments": {},
   "cell_type": "markdown",
   "metadata": {},
   "source": [
    "**Step 2: Reading the file with pandas**"
   ]
  },
  {
   "cell_type": "code",
   "execution_count": 3,
   "metadata": {},
   "outputs": [
    {
     "name": "stdout",
     "output_type": "stream",
     "text": [
      "Time taken to read with pandas: 118.36349272727966 seconds\n"
     ]
    }
   ],
   "source": [
    "start_time = time.time()\n",
    "df_pandas = pd.read_csv(file_path)\n",
    "pandas_time = time.time() - start_time\n",
    "print('Time taken to read with pandas: %s seconds' % pandas_time)"
   ]
  },
  {
   "attachments": {},
   "cell_type": "markdown",
   "metadata": {},
   "source": [
    "**Step 3: Reading the file with Dask**"
   ]
  },
  {
   "cell_type": "code",
   "execution_count": 15,
   "metadata": {},
   "outputs": [
    {
     "name": "stdout",
     "output_type": "stream",
     "text": [
      "Time taken to read with Dask: 0.3820004463195801 seconds\n"
     ]
    }
   ],
   "source": [
    "start_time = time.time()\n",
    "df_dask = dd.read_csv(file_path, blocksize=1e6)\n",
    "dask_time = time.time() - start_time\n",
    "print('Time taken to read with Dask: %s seconds' % dask_time)"
   ]
  },
  {
   "attachments": {},
   "cell_type": "markdown",
   "metadata": {},
   "source": [
    "**Step 4: Reading the file with Modin and Ray**"
   ]
  },
  {
   "cell_type": "code",
   "execution_count": 6,
   "metadata": {},
   "outputs": [
    {
     "name": "stderr",
     "output_type": "stream",
     "text": [
      "UserWarning: Ray execution environment not yet initialized. Initializing...\n",
      "To remove this warning, run the following python code before doing dataframe operations:\n",
      "\n",
      "    import ray\n",
      "    ray.init()\n",
      "\n",
      "2023-06-12 09:55:19,122\tINFO worker.py:1636 -- Started a local Ray instance.\n"
     ]
    },
    {
     "name": "stdout",
     "output_type": "stream",
     "text": [
      "Time taken to read with Modin and Ray: 111.75967359542847 seconds\n"
     ]
    }
   ],
   "source": [
    "os.environ['MODIN_ENGINE'] = 'ray'\n",
    "start_time = time.time()\n",
    "df_modin_ray = mp.read_csv(file_path)\n",
    "modin_ray_time = time.time() - start_time\n",
    "print('Time taken to read with Modin and Ray: %s seconds' % modin_ray_time)"
   ]
  },
  {
   "attachments": {},
   "cell_type": "markdown",
   "metadata": {},
   "source": [
    "**Step 5: Reading the file with Modin and Dask**"
   ]
  },
  {
   "cell_type": "code",
   "execution_count": 7,
   "metadata": {},
   "outputs": [
    {
     "name": "stderr",
     "output_type": "stream",
     "text": [
      "UserWarning: Port 8787 is already in use.\n",
      "Perhaps you already have a cluster running?\n",
      "Hosting the HTTP server on port 52504 instead\n"
     ]
    },
    {
     "name": "stdout",
     "output_type": "stream",
     "text": [
      "Time taken to read with Modin and Dask: 430.3528573513031 seconds\n"
     ]
    }
   ],
   "source": [
    "os.environ['MODIN_ENGINE'] = 'dask'\n",
    "Client(memory_limit='3GB')\n",
    "start_time = time.time()\n",
    "df_modin_dask = mp.read_csv(file_path)\n",
    "modin_dask_time = time.time() - start_time\n",
    "print('Time taken to read with Modin and Dask: %s seconds' % modin_dask_time)"
   ]
  },
  {
   "attachments": {},
   "cell_type": "markdown",
   "metadata": {},
   "source": [
    "**Comparing the times**"
   ]
  },
  {
   "cell_type": "code",
   "execution_count": 16,
   "metadata": {},
   "outputs": [
    {
     "name": "stdout",
     "output_type": "stream",
     "text": [
      "Pandas: 118.36349272727966 sec, Dask: 0.3820004463195801 sec, Modin with Ray: 111.75967359542847 sec, Modin with Dask: 430.3528573513031 sec\n"
     ]
    }
   ],
   "source": [
    "print(f'Pandas: {pandas_time} sec, Dask: {dask_time} sec, Modin with Ray: {modin_ray_time} sec, Modin with Dask: {modin_dask_time} sec')"
   ]
  },
  {
   "attachments": {},
   "cell_type": "markdown",
   "metadata": {},
   "source": [
    "**Step 6: Clean column names using the dataframe from the most efficient method**"
   ]
  },
  {
   "cell_type": "code",
   "execution_count": 17,
   "metadata": {},
   "outputs": [
    {
     "name": "stderr",
     "output_type": "stream",
     "text": [
      "FutureWarning: The default value of regex will change from True to False in a future version.\n"
     ]
    }
   ],
   "source": [
    "df = df_dask\n",
    "df.columns = df.columns.str.replace(' ', '_')\n",
    "df.columns = df.columns.str.replace('[^a-zA-Z0-9_]', '')"
   ]
  },
  {
   "attachments": {},
   "cell_type": "markdown",
   "metadata": {},
   "source": [
    "**Step 7: Create a YAML file and write the column names**"
   ]
  },
  {
   "cell_type": "code",
   "execution_count": 18,
   "metadata": {},
   "outputs": [],
   "source": [
    "columns = {'columns': df.columns.tolist(), 'separator': '|'}\n",
    "with open('schema.yaml', 'w') as file:\n",
    "  yaml.dump(columns, file)"
   ]
  },
  {
   "attachments": {},
   "cell_type": "markdown",
   "metadata": {},
   "source": [
    "**Step 8: Validate number of columns and column names**"
   ]
  },
  {
   "cell_type": "code",
   "execution_count": 19,
   "metadata": {},
   "outputs": [
    {
     "name": "stdout",
     "output_type": "stream",
     "text": [
      "Columns are validated successfully\n"
     ]
    }
   ],
   "source": [
    "with open('schema.yaml', 'r') as stream:\n",
    "  yaml_data = yaml.safe_load(stream)\n",
    "\n",
    "if yaml_data['columns'] == df.columns.tolist():\n",
    "  print('Columns are validated successfully')\n",
    "else:\n",
    "  print('Columns are not matching with the YAML file.')"
   ]
  },
  {
   "attachments": {},
   "cell_type": "markdown",
   "metadata": {},
   "source": [
    "**Step 9: Write the file in pipe-separated format in gz format**"
   ]
  },
  {
   "cell_type": "code",
   "execution_count": 20,
   "metadata": {},
   "outputs": [
    {
     "data": {
      "text/plain": [
       "['c:\\\\Users\\\\Zohra\\\\OneDrive\\\\Documents\\\\Github\\\\Data_Glacier\\\\Week6\\\\pipe_separated.gz']"
      ]
     },
     "execution_count": 20,
     "metadata": {},
     "output_type": "execute_result"
    }
   ],
   "source": [
    "df.to_csv('pipe_separated.gz', sep='|', compression='gzip', index=False, single_file=True)"
   ]
  },
  {
   "attachments": {},
   "cell_type": "markdown",
   "metadata": {},
   "source": [
    "**Step 10: Generate a summary of the file**"
   ]
  },
  {
   "cell_type": "code",
   "execution_count": 21,
   "metadata": {},
   "outputs": [
    {
     "name": "stdout",
     "output_type": "stream",
     "text": [
      "Total number of rows: 22520376\n",
      "Total number of columns: 2\n",
      "File size: 2679855933 bytes\n"
     ]
    }
   ],
   "source": [
    "file_size = os.path.getsize('pipe_separated.gz')\n",
    "\n",
    "print(f'Total number of rows: {len(df)}')\n",
    "print(f'Total number of columns: {len(df.columns)}')\n",
    "print(f'File size: {file_size} bytes')"
   ]
  }
 ],
 "metadata": {
  "kernelspec": {
   "display_name": "Python 3",
   "language": "python",
   "name": "python3"
  },
  "language_info": {
   "codemirror_mode": {
    "name": "ipython",
    "version": 3
   },
   "file_extension": ".py",
   "mimetype": "text/x-python",
   "name": "python",
   "nbconvert_exporter": "python",
   "pygments_lexer": "ipython3",
   "version": "3.8.0"
  },
  "orig_nbformat": 4
 },
 "nbformat": 4,
 "nbformat_minor": 2
}
